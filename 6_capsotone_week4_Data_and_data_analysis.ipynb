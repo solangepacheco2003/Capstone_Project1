{
 "cells": [
  {
   "cell_type": "markdown",
   "metadata": {},
   "source": [
    "#### Suggestions for TOP venues in Lisbon!\n",
    "#### Capstone Project - week 4"
   ]
  },
  {
   "cell_type": "markdown",
   "metadata": {},
   "source": [
    "\n",
    "## Description of the data and how it will be used to solve the problem.\n",
    "## 1. Data\n",
    "\n",
    "#### Sources and format\n",
    "To explore the two cities we start by creating two data frames which include at least Borough and Neighborhoods information. \n",
    "New York (NY) data is available as a json file in the following link <br>\n",
    "https://ibm.box.com/shared/static/fbpwbovar7lf8p5sgddm06cgipa2rxpe.json.<br>\n",
    "It includes features such as Borough, Neighborhood, Latitude and Longitude.\n",
    "\n",
    "For Toronto, the data is in a table on the Wikipedia page url https://en.wikipedia.org/wiki/List_of_postal_codes_of_Canada:_M,into.<br>\n",
    "The BeautifulSoup was selected among the different website scraping libraries and packages in Python, to transform the data in \n",
    "the table on the Wikipedia page into a pandas dataframe. It includes the PostalCode, the Borough and Neighborhood. The latitude (lat) and longitudes (long) will be added directly from url http://cocl.us/Geospatial_data.\n",
    "\n",
    "#### Dependencies\n",
    "Several libraries are required for data handling and analysis, such as pandas, numpy and json; for cluster analysis, kmeans from sklearn will be imported as well as matplotlib, requests and geocoders to map the reults.\n",
    "\n",
    "#### Methods\n",
    "In this project we will convert NY and Toronto addresses into their equivalent latitude and longitude values. Then, use the Foursquare API to explore neighborhoods in both cities to get the most common venue categories in each neighborhood, and then use this feature to group the neighborhoods into clusters. The machine learning algorithm  k-means clustering will be especially useful to quickly segment the neighborhoods based on the top venues categories. In parallel with the Folium library we will visualize the neighborhoods in both cities and their emerging clusters."
   ]
  },
  {
   "cell_type": "markdown",
   "metadata": {},
   "source": [
    "### Thank you for reading!\n",
    "This notebook was created by [Solange Pachco]. \n",
    "This notebook is part of a course on **Coursera** called *Applied Data Science Capstone*. "
   ]
  }
 ],
 "metadata": {
  "kernelspec": {
   "display_name": "Python 3",
   "language": "python",
   "name": "python3"
  },
  "language_info": {
   "codemirror_mode": {
    "name": "ipython",
    "version": 3
   },
   "file_extension": ".py",
   "mimetype": "text/x-python",
   "name": "python",
   "nbconvert_exporter": "python",
   "pygments_lexer": "ipython3",
   "version": "3.6.6"
  }
 },
 "nbformat": 4,
 "nbformat_minor": 2
}
