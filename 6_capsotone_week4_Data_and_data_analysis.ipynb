{
 "cells": [
  {
   "cell_type": "markdown",
   "metadata": {},
   "source": [
    "\n",
    "## Description of the data and how it will be used to solve the problem.\n",
    "The __aim__ of this project is to find the top venues in two of the top destinations for tourists, and hence, help business owners, entrepreneurs, local authorities and all the stakeholders to make conscious decisions. Ultimately it will **benefit the citizens and improve the touristic experience with top offers** \n",
    "\n",
    "Therefore, we will explore each city to get their top venues and then compare both.<br>\n",
    "If there are common aspects, they will be on the top choice **list for new venues in Lisbon***.<br>\n",
    "Additionally, I aim to map clusters of the top venues in both cities to visually understand how different/similar are they. \n",
    "\n",
    "In order to get there,<br>\n",
    "\n",
    "1- Convert New York city and Toronto addresses into their equivalent latitude and longitude values.<br>\n",
    "<br>\n",
    "2- Explore their neighborhoods using the Foursquare API.<br>\n",
    "<br>\n",
    "3- Get the wish-list with the most common venues in each city.<br>\n",
    "<br>\n",
    "4- Group these results with k-means clustering algorithm.<br>\n",
    "<br>\n",
    "5- Use the Folium library to visualize the neighborhoods and their emerging clusters.<br>\n",
    "\n",
    "\n",
    "Let's start!"
   ]
  }
 ],
 "metadata": {
  "kernelspec": {
   "display_name": "Python 3",
   "language": "python",
   "name": "python3"
  },
  "language_info": {
   "codemirror_mode": {
    "name": "ipython",
    "version": 3
   },
   "file_extension": ".py",
   "mimetype": "text/x-python",
   "name": "python",
   "nbconvert_exporter": "python",
   "pygments_lexer": "ipython3",
   "version": "3.6.6"
  }
 },
 "nbformat": 4,
 "nbformat_minor": 2
}
