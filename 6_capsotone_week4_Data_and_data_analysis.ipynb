{
 "cells": [
  {
   "cell_type": "markdown",
   "metadata": {},
   "source": [
    "\n",
    "## Description of the data and how it will be used to solve the problem.\n",
    "In this final project I would like to understand a bit more of Lisbon top venues.<br>\n",
    "Additionally, I aim to map clusters of the top venues in both Lisbon and Manhattan to visually understand how different are they.\n",
    "\n",
    "In order to get there,<br>\n",
    "\n",
    "1- Convert Lisbon addresses into their equivalent latitude and longitude values.<br>\n",
    "<br>\n",
    "2- Explore the Lisbon neighborhoods using the Foursquare API.<br>\n",
    "<br>\n",
    "3- Get the most common venue categories in each city neighborhood (Lisbon and Manhattan).<br>\n",
    "<br>\n",
    "4- Group these results with k-means clustering algorithm.<br>\n",
    "<br>\n",
    "5- Use the Folium library to visualize the neighborhoods in Manhattan and Lisbon and their emerging clusters.<br>\n",
    "\n",
    "\n"
   ]
  }
 ],
 "metadata": {
  "kernelspec": {
   "display_name": "Python 3",
   "language": "python",
   "name": "python3"
  },
  "language_info": {
   "codemirror_mode": {
    "name": "ipython",
    "version": 3
   },
   "file_extension": ".py",
   "mimetype": "text/x-python",
   "name": "python",
   "nbconvert_exporter": "python",
   "pygments_lexer": "ipython3",
   "version": "3.6.6"
  }
 },
 "nbformat": 4,
 "nbformat_minor": 2
}
