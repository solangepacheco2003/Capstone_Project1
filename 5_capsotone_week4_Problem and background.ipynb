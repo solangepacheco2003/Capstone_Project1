{
 "cells": [
  {
   "cell_type": "markdown",
   "metadata": {},
   "source": [
    "# Capstone Project - week 4<br>\n",
    "# The Battle of Neighborhoods <br>\n",
    "# New York vs Toronto<br>\n",
    "\n",
    "Hi there!\n",
    "\n",
    "I am Solange, a citizen from Lisbon, in Portugal.\n",
    "\n",
    "\n",
    "## Description of the problem and a discussion of the background\n",
    "\n",
    "As you may know, Lisbon is blooming with tourists. Obviously it is a major opportunity for many business owners or newcomers, mostly in the food & leisure industry. Unfortunately, some of them are not succeeded and either close their business in time or go bankrupt. This situation raises a huge economic and social concern.<br>\n",
    "Luckily there are great examples that we can learn from, such as New York city and Toronto. Being one of the top destination for tourists worldwide, these destinations rarely disappoint. Filled with diversity for all tastes .<br>\n",
    "It can definitely aid business owners and all the stakeholders, including local authorities and citizen associations, to make Lisbon a great destination as well. \n",
    "\n",
    "I believe this project will enlighten and help us to be succeeded and hence provide a better service for the city and all the passengers within. Ultimately to create __a better Lisbon for all!__.\n",
    "\n",
    "Lets dig in!"
   ]
  }
 ],
 "metadata": {
  "kernelspec": {
   "display_name": "Python 3",
   "language": "python",
   "name": "python3"
  },
  "language_info": {
   "codemirror_mode": {
    "name": "ipython",
    "version": 3
   },
   "file_extension": ".py",
   "mimetype": "text/x-python",
   "name": "python",
   "nbconvert_exporter": "python",
   "pygments_lexer": "ipython3",
   "version": "3.6.6"
  }
 },
 "nbformat": 4,
 "nbformat_minor": 2
}
